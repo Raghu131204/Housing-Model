{
 "cells": [
  {
   "cell_type": "markdown",
   "id": "a37b3419-bdcf-4e58-8ba7-767335fe8a1d",
   "metadata": {},
   "source": [
    "<h3>Importing the Libraries</h3>"
   ]
  },
  {
   "cell_type": "code",
   "execution_count": 121,
   "id": "0d2bdbd5-d0b4-410a-9ba4-93491f923efc",
   "metadata": {},
   "outputs": [],
   "source": [
    "import numpy as np\n",
    "import pandas as pd \n",
    "import matplotlib.pyplot as plt\n",
    "import seaborn as sns\n",
    "pd.pandas.set_option('display.max_columns',None)\n",
    "import warnings\n",
    "# Suppress all warnings\n",
    "warnings.filterwarnings(\"ignore\")\n",
    "from sklearn.model_selection import train_test_split"
   ]
  },
  {
   "cell_type": "code",
   "execution_count": 122,
   "id": "1c9cfd11-22a0-453b-8f4c-377e2efdb670",
   "metadata": {},
   "outputs": [
    {
     "data": {
      "text/html": [
       "<div>\n",
       "<style scoped>\n",
       "    .dataframe tbody tr th:only-of-type {\n",
       "        vertical-align: middle;\n",
       "    }\n",
       "\n",
       "    .dataframe tbody tr th {\n",
       "        vertical-align: top;\n",
       "    }\n",
       "\n",
       "    .dataframe thead th {\n",
       "        text-align: right;\n",
       "    }\n",
       "</style>\n",
       "<table border=\"1\" class=\"dataframe\">\n",
       "  <thead>\n",
       "    <tr style=\"text-align: right;\">\n",
       "      <th></th>\n",
       "      <th>area_type</th>\n",
       "      <th>availability</th>\n",
       "      <th>location</th>\n",
       "      <th>size</th>\n",
       "      <th>society</th>\n",
       "      <th>total_sqft</th>\n",
       "      <th>bath</th>\n",
       "      <th>balcony</th>\n",
       "      <th>price</th>\n",
       "    </tr>\n",
       "  </thead>\n",
       "  <tbody>\n",
       "    <tr>\n",
       "      <th>2617</th>\n",
       "      <td>Super built-up  Area</td>\n",
       "      <td>19-Dec</td>\n",
       "      <td>Hebbal</td>\n",
       "      <td>4 BHK</td>\n",
       "      <td>SNontle</td>\n",
       "      <td>3067</td>\n",
       "      <td>4.0</td>\n",
       "      <td>3.0</td>\n",
       "      <td>230.0</td>\n",
       "    </tr>\n",
       "    <tr>\n",
       "      <th>1429</th>\n",
       "      <td>Super built-up  Area</td>\n",
       "      <td>Ready To Move</td>\n",
       "      <td>Yelahanka</td>\n",
       "      <td>3 BHK</td>\n",
       "      <td>PuziaVe</td>\n",
       "      <td>1614</td>\n",
       "      <td>3.0</td>\n",
       "      <td>2.0</td>\n",
       "      <td>95.0</td>\n",
       "    </tr>\n",
       "    <tr>\n",
       "      <th>7449</th>\n",
       "      <td>Super built-up  Area</td>\n",
       "      <td>Ready To Move</td>\n",
       "      <td>Bharathi Nagar</td>\n",
       "      <td>2 BHK</td>\n",
       "      <td>FoapeWa</td>\n",
       "      <td>1351</td>\n",
       "      <td>2.0</td>\n",
       "      <td>2.0</td>\n",
       "      <td>74.0</td>\n",
       "    </tr>\n",
       "    <tr>\n",
       "      <th>4183</th>\n",
       "      <td>Super built-up  Area</td>\n",
       "      <td>Ready To Move</td>\n",
       "      <td>Basavangudi</td>\n",
       "      <td>3 BHK</td>\n",
       "      <td>Shntsad</td>\n",
       "      <td>2300</td>\n",
       "      <td>3.0</td>\n",
       "      <td>NaN</td>\n",
       "      <td>317.0</td>\n",
       "    </tr>\n",
       "    <tr>\n",
       "      <th>9328</th>\n",
       "      <td>Super built-up  Area</td>\n",
       "      <td>Ready To Move</td>\n",
       "      <td>Begur Road</td>\n",
       "      <td>2 BHK</td>\n",
       "      <td>Dhalsh</td>\n",
       "      <td>1200</td>\n",
       "      <td>2.0</td>\n",
       "      <td>2.0</td>\n",
       "      <td>42.0</td>\n",
       "    </tr>\n",
       "  </tbody>\n",
       "</table>\n",
       "</div>"
      ],
      "text/plain": [
       "                 area_type   availability        location   size  society  \\\n",
       "2617  Super built-up  Area         19-Dec          Hebbal  4 BHK  SNontle   \n",
       "1429  Super built-up  Area  Ready To Move       Yelahanka  3 BHK  PuziaVe   \n",
       "7449  Super built-up  Area  Ready To Move  Bharathi Nagar  2 BHK  FoapeWa   \n",
       "4183  Super built-up  Area  Ready To Move     Basavangudi  3 BHK  Shntsad   \n",
       "9328  Super built-up  Area  Ready To Move      Begur Road  2 BHK  Dhalsh    \n",
       "\n",
       "     total_sqft  bath  balcony  price  \n",
       "2617       3067   4.0      3.0  230.0  \n",
       "1429       1614   3.0      2.0   95.0  \n",
       "7449       1351   2.0      2.0   74.0  \n",
       "4183       2300   3.0      NaN  317.0  \n",
       "9328       1200   2.0      2.0   42.0  "
      ]
     },
     "execution_count": 122,
     "metadata": {},
     "output_type": "execute_result"
    }
   ],
   "source": [
    "#Reading the data set\n",
    "data=pd.read_csv('Dataset/Bengaluru_House.csv')\n",
    "data.sample(5)"
   ]
  },
  {
   "cell_type": "code",
   "execution_count": 123,
   "id": "5edf14f2-ba64-4d25-9006-a48602392f18",
   "metadata": {},
   "outputs": [
    {
     "data": {
      "text/plain": [
       "area_type        object\n",
       "availability     object\n",
       "location         object\n",
       "size             object\n",
       "society          object\n",
       "total_sqft       object\n",
       "bath            float64\n",
       "balcony         float64\n",
       "price           float64\n",
       "dtype: object"
      ]
     },
     "execution_count": 123,
     "metadata": {},
     "output_type": "execute_result"
    }
   ],
   "source": [
    "#Checking the data types of each columns\n",
    "data.dtypes"
   ]
  },
  {
   "cell_type": "code",
   "execution_count": 124,
   "id": "bfdf06d7-5e7b-4d21-a6a7-44a2c541e129",
   "metadata": {},
   "outputs": [
    {
     "name": "stdout",
     "output_type": "stream",
     "text": [
      "<class 'pandas.core.frame.DataFrame'>\n",
      "RangeIndex: 13320 entries, 0 to 13319\n",
      "Data columns (total 9 columns):\n",
      " #   Column        Non-Null Count  Dtype  \n",
      "---  ------        --------------  -----  \n",
      " 0   area_type     13320 non-null  object \n",
      " 1   availability  13320 non-null  object \n",
      " 2   location      13319 non-null  object \n",
      " 3   size          13304 non-null  object \n",
      " 4   society       7818 non-null   object \n",
      " 5   total_sqft    13320 non-null  object \n",
      " 6   bath          13247 non-null  float64\n",
      " 7   balcony       12711 non-null  float64\n",
      " 8   price         13320 non-null  float64\n",
      "dtypes: float64(3), object(6)\n",
      "memory usage: 936.7+ KB\n"
     ]
    }
   ],
   "source": [
    "data.info()"
   ]
  },
  {
   "cell_type": "code",
   "execution_count": 125,
   "id": "da12508d-c72d-4e5c-a527-c12bd411f1ad",
   "metadata": {},
   "outputs": [
    {
     "name": "stdout",
     "output_type": "stream",
     "text": [
      "area_type\n",
      "Super built-up  Area    8790\n",
      "Built-up  Area          2418\n",
      "Plot  Area              2025\n",
      "Carpet  Area              87\n",
      "Name: count, dtype: int64\n",
      "----------------------------------\n",
      "availability\n",
      "Ready To Move    10581\n",
      "18-Dec             307\n",
      "18-May             295\n",
      "18-Apr             271\n",
      "18-Aug             200\n",
      "                 ...  \n",
      "15-Aug               1\n",
      "17-Jan               1\n",
      "16-Nov               1\n",
      "16-Jan               1\n",
      "14-Jul               1\n",
      "Name: count, Length: 81, dtype: int64\n",
      "----------------------------------\n",
      "location\n",
      "Whitefield                        540\n",
      "Sarjapur  Road                    399\n",
      "Electronic City                   302\n",
      "Kanakpura Road                    273\n",
      "Thanisandra                       234\n",
      "                                 ... \n",
      "Bapuji Layout                       1\n",
      "1st Stage Radha Krishna Layout      1\n",
      "BEML Layout 5th stage               1\n",
      "singapura paradise                  1\n",
      "Abshot Layout                       1\n",
      "Name: count, Length: 1305, dtype: int64\n",
      "----------------------------------\n",
      "size\n",
      "2 BHK         5199\n",
      "3 BHK         4310\n",
      "4 Bedroom      826\n",
      "4 BHK          591\n",
      "3 Bedroom      547\n",
      "1 BHK          538\n",
      "2 Bedroom      329\n",
      "5 Bedroom      297\n",
      "6 Bedroom      191\n",
      "1 Bedroom      105\n",
      "8 Bedroom       84\n",
      "7 Bedroom       83\n",
      "5 BHK           59\n",
      "9 Bedroom       46\n",
      "6 BHK           30\n",
      "7 BHK           17\n",
      "1 RK            13\n",
      "10 Bedroom      12\n",
      "9 BHK            8\n",
      "8 BHK            5\n",
      "11 BHK           2\n",
      "11 Bedroom       2\n",
      "10 BHK           2\n",
      "14 BHK           1\n",
      "13 BHK           1\n",
      "12 Bedroom       1\n",
      "27 BHK           1\n",
      "43 Bedroom       1\n",
      "16 BHK           1\n",
      "19 BHK           1\n",
      "18 Bedroom       1\n",
      "Name: count, dtype: int64\n",
      "----------------------------------\n",
      "society\n",
      "GrrvaGr    80\n",
      "PrarePa    76\n",
      "Sryalan    59\n",
      "Prtates    59\n",
      "GMown E    56\n",
      "           ..\n",
      "Amionce     1\n",
      "JaghtDe     1\n",
      "Jauraht     1\n",
      "Brity U     1\n",
      "RSntsAp     1\n",
      "Name: count, Length: 2688, dtype: int64\n",
      "----------------------------------\n",
      "total_sqft\n",
      "1200    843\n",
      "1100    221\n",
      "1500    205\n",
      "2400    196\n",
      "600     180\n",
      "       ... \n",
      "3580      1\n",
      "2461      1\n",
      "1437      1\n",
      "2155      1\n",
      "4689      1\n",
      "Name: count, Length: 2117, dtype: int64\n",
      "----------------------------------\n",
      "bath\n",
      "2.0     6908\n",
      "3.0     3286\n",
      "4.0     1226\n",
      "1.0      788\n",
      "5.0      524\n",
      "6.0      273\n",
      "7.0      102\n",
      "8.0       64\n",
      "9.0       43\n",
      "10.0      13\n",
      "12.0       7\n",
      "13.0       3\n",
      "11.0       3\n",
      "16.0       2\n",
      "27.0       1\n",
      "40.0       1\n",
      "15.0       1\n",
      "14.0       1\n",
      "18.0       1\n",
      "Name: count, dtype: int64\n",
      "----------------------------------\n",
      "balcony\n",
      "2.0    5113\n",
      "1.0    4897\n",
      "3.0    1672\n",
      "0.0    1029\n",
      "Name: count, dtype: int64\n",
      "----------------------------------\n",
      "price\n",
      "75.00     310\n",
      "65.00     302\n",
      "55.00     275\n",
      "60.00     270\n",
      "45.00     240\n",
      "         ... \n",
      "351.00      1\n",
      "54.10       1\n",
      "80.64       1\n",
      "32.73       1\n",
      "488.00      1\n",
      "Name: count, Length: 1994, dtype: int64\n",
      "----------------------------------\n"
     ]
    }
   ],
   "source": [
    "#checking the counts of each values in each column\n",
    "for col in data.columns:\n",
    "    print(data[col].value_counts())\n",
    "    print(\"----------------------------------\")"
   ]
  },
  {
   "cell_type": "code",
   "execution_count": 126,
   "id": "d0bff763-430a-4097-9b80-466108339a29",
   "metadata": {},
   "outputs": [
    {
     "data": {
      "text/plain": [
       "6201"
      ]
     },
     "execution_count": 126,
     "metadata": {},
     "output_type": "execute_result"
    }
   ],
   "source": [
    "#checking the null values in the data set\n",
    "data.isnull().sum().sum()"
   ]
  },
  {
   "cell_type": "code",
   "execution_count": 127,
   "id": "bd5c9afd-5d40-43e9-ab9b-323f99e44f7a",
   "metadata": {},
   "outputs": [
    {
     "data": {
      "text/plain": [
       "area_type          0\n",
       "availability       0\n",
       "location           1\n",
       "size              16\n",
       "society         5502\n",
       "total_sqft         0\n",
       "bath              73\n",
       "balcony          609\n",
       "price              0\n",
       "dtype: int64"
      ]
     },
     "execution_count": 127,
     "metadata": {},
     "output_type": "execute_result"
    }
   ],
   "source": [
    "#null values in each column\n",
    "data.isnull().sum()"
   ]
  },
  {
   "cell_type": "code",
   "execution_count": 128,
   "id": "dbcdfb87-ce40-43e7-b5b8-9af0b6bb227c",
   "metadata": {},
   "outputs": [],
   "source": [
    "#droping the row that has a null value \n",
    "data.dropna(subset=['location'],inplace=True)"
   ]
  },
  {
   "cell_type": "code",
   "execution_count": 129,
   "id": "e7979c36-31a0-4fbe-a02f-9bea23406426",
   "metadata": {},
   "outputs": [
    {
     "data": {
      "text/plain": [
       "529"
      ]
     },
     "execution_count": 129,
     "metadata": {},
     "output_type": "execute_result"
    }
   ],
   "source": [
    "data.duplicated().sum()"
   ]
  },
  {
   "cell_type": "code",
   "execution_count": 130,
   "id": "3fdc5446-4150-4fa5-8bb3-ab799442899f",
   "metadata": {},
   "outputs": [],
   "source": [
    "data.drop_duplicates(inplace=True)"
   ]
  },
  {
   "cell_type": "markdown",
   "id": "35e4c8d1-5bce-445d-a4cc-1e8c3052bf48",
   "metadata": {},
   "source": [
    "<h4>Size</h4>"
   ]
  },
  {
   "cell_type": "code",
   "execution_count": 131,
   "id": "0622eeed-38b5-4a71-ad1f-1b995684582b",
   "metadata": {},
   "outputs": [],
   "source": [
    "##preprocessing column size \n",
    "data['BHK']=data['size'].str.extract('(\\d+)')"
   ]
  },
  {
   "cell_type": "code",
   "execution_count": 132,
   "id": "13144c7b-5120-4888-aa6e-b2c10403dcba",
   "metadata": {},
   "outputs": [],
   "source": [
    "data['BHK']=pd.to_numeric(data['BHK'],errors='coerce')"
   ]
  },
  {
   "cell_type": "code",
   "execution_count": 133,
   "id": "7b67d64f-1502-4a49-8ee8-3721de28785c",
   "metadata": {},
   "outputs": [
    {
     "data": {
      "text/plain": [
       "16"
      ]
     },
     "execution_count": 133,
     "metadata": {},
     "output_type": "execute_result"
    }
   ],
   "source": [
    "#checkimg the null values in the column BHK\n",
    "data['BHK'].isnull().sum().sum()"
   ]
  },
  {
   "cell_type": "code",
   "execution_count": 134,
   "id": "b0d8f56b-e7dc-4579-a1a7-441c0436da36",
   "metadata": {},
   "outputs": [],
   "source": [
    "data['BHK'].fillna(data['BHK'].median(),inplace=True) #filling the missing values with median value"
   ]
  },
  {
   "cell_type": "markdown",
   "id": "f0c88b4d-c6d1-4030-a498-84947d448632",
   "metadata": {},
   "source": [
    "<h4>balcony</h4>"
   ]
  },
  {
   "cell_type": "code",
   "execution_count": 135,
   "id": "2fedaf03-a732-4889-9469-935f0d1c005a",
   "metadata": {},
   "outputs": [
    {
     "data": {
      "text/plain": [
       "605"
      ]
     },
     "execution_count": 135,
     "metadata": {},
     "output_type": "execute_result"
    }
   ],
   "source": [
    "#checking the null values in column balcony\n",
    "data['balcony'].isnull().sum()"
   ]
  },
  {
   "cell_type": "markdown",
   "id": "5708eecc-6270-410e-b6e2-37607a484887",
   "metadata": {},
   "source": [
    "around 5 % of the data is missing in the column balcony"
   ]
  },
  {
   "cell_type": "code",
   "execution_count": 136,
   "id": "5afde2c2-9794-4315-9eec-8b242b5c8652",
   "metadata": {},
   "outputs": [],
   "source": [
    "data['balcony'].fillna(data['balcony'].median(),inplace=True)"
   ]
  },
  {
   "cell_type": "code",
   "execution_count": 137,
   "id": "757ed597-6a9b-4cb0-94e7-e878cce099b1",
   "metadata": {},
   "outputs": [
    {
     "data": {
      "text/plain": [
       "0"
      ]
     },
     "execution_count": 137,
     "metadata": {},
     "output_type": "execute_result"
    }
   ],
   "source": [
    "data['balcony'].isnull().sum()"
   ]
  },
  {
   "cell_type": "markdown",
   "id": "e700451e-243b-46d4-8dae-f61167e7b424",
   "metadata": {},
   "source": [
    "<h4>bath</h4>"
   ]
  },
  {
   "cell_type": "code",
   "execution_count": 138,
   "id": "3fad763a-7f6c-46e8-8f55-802e6cb8bd29",
   "metadata": {},
   "outputs": [
    {
     "data": {
      "text/plain": [
       "73"
      ]
     },
     "execution_count": 138,
     "metadata": {},
     "output_type": "execute_result"
    }
   ],
   "source": [
    "data['bath'].isnull().sum()"
   ]
  },
  {
   "cell_type": "code",
   "execution_count": 139,
   "id": "b34f28a2-eece-48d4-aacd-fd2d322f5301",
   "metadata": {},
   "outputs": [],
   "source": [
    "data['bath'].fillna(data['bath'].median(),inplace=True)"
   ]
  },
  {
   "cell_type": "markdown",
   "id": "5341e03e-c882-4b94-8ffc-b721eb738c05",
   "metadata": {},
   "source": [
    "<h4>total_sqft</h4>"
   ]
  },
  {
   "cell_type": "code",
   "execution_count": 140,
   "id": "6a338300-a2d3-4ec7-be7b-7cfa9a691d60",
   "metadata": {},
   "outputs": [],
   "source": [
    "def to_sqft(x):\n",
    "    # Handle ranges (e.g., \"4000 - 5249\")\n",
    "    if '-' in x:\n",
    "        token = x.split('-')\n",
    "        if len(token) == 2:\n",
    "            return (float(token[0].strip()) + float(token[1].strip())) / 2\n",
    "\n",
    "    # Handle Sq. Yards to Sq. Feet\n",
    "    if \"Sq. Yards\" in x:\n",
    "        return float(x.split(\"Sq. Yards\")[0].strip()) * 9\n",
    "\n",
    "    # Handle Sq. Meter to Sq. Feet\n",
    "    if \"Sq. Meter\" in x:\n",
    "        return float(x.split(\"Sq. Meter\")[0].strip()) * 10.7639\n",
    "\n",
    "    # Handle Perch to Sq. Feet\n",
    "    if \"Perch\" in x:\n",
    "        return float(x.split(\"Perch\")[0].strip()) * 272.25\n",
    "\n",
    "    # Handle Grounds to Sq. Feet\n",
    "    if \"Grounds\" in x:\n",
    "        return float(x.split(\"Grounds\")[0].strip()) * 2400\n",
    "\n",
    "    # Handle Acres to Sq. Feet\n",
    "    if \"Acres\" in x:\n",
    "        return float(x.split(\"Acres\")[0].strip()) * 43560\n",
    "\n",
    "    # Handle Cents to Sq. Feet\n",
    "    if \"Cents\" in x:\n",
    "        return float(x.split(\"Cents\")[0].strip()) * 435.6\n",
    "\n",
    "    # Handle Guntha to Sq. Feet\n",
    "    if \"Guntha\" in x:\n",
    "        return float(x.split(\"Guntha\")[0].strip()) * 1089\n",
    "\n",
    "    # Handle standalone numeric values\n",
    "    try:\n",
    "        return float(x)\n",
    "    except ValueError:\n",
    "        return None  # For invalid or unknown formats"
   ]
  },
  {
   "cell_type": "code",
   "execution_count": 141,
   "id": "cd6ed027-1748-415b-bc2f-36374e4f16d8",
   "metadata": {},
   "outputs": [],
   "source": [
    "data['total_sqft']=data['total_sqft'].apply(to_sqft)"
   ]
  },
  {
   "cell_type": "markdown",
   "id": "90043622-5a9d-4378-a18e-a5e8bc54553d",
   "metadata": {},
   "source": [
    "<h4>location</h4>"
   ]
  },
  {
   "cell_type": "code",
   "execution_count": 142,
   "id": "34d4ae78-9719-4d24-95bc-c2f4a2a071d9",
   "metadata": {},
   "outputs": [
    {
     "data": {
      "text/plain": [
       "1305"
      ]
     },
     "execution_count": 142,
     "metadata": {},
     "output_type": "execute_result"
    }
   ],
   "source": [
    "unique_loc=data['location'].unique()#checkking the unique values of colum location \n",
    "len(unique_loc)"
   ]
  },
  {
   "cell_type": "code",
   "execution_count": 143,
   "id": "bc0eccbe-8646-4ad5-b013-b8d4fdd726a9",
   "metadata": {},
   "outputs": [],
   "source": [
    "data['location']=data['location'].str.lower()#converting all the values of column location to lowercase "
   ]
  },
  {
   "cell_type": "code",
   "execution_count": 144,
   "id": "e075e14a-4be4-4079-a382-c17696792f6d",
   "metadata": {},
   "outputs": [
    {
     "data": {
      "text/html": [
       "<div>\n",
       "<style scoped>\n",
       "    .dataframe tbody tr th:only-of-type {\n",
       "        vertical-align: middle;\n",
       "    }\n",
       "\n",
       "    .dataframe tbody tr th {\n",
       "        vertical-align: top;\n",
       "    }\n",
       "\n",
       "    .dataframe thead th {\n",
       "        text-align: right;\n",
       "    }\n",
       "</style>\n",
       "<table border=\"1\" class=\"dataframe\">\n",
       "  <thead>\n",
       "    <tr style=\"text-align: right;\">\n",
       "      <th></th>\n",
       "      <th>area_type</th>\n",
       "      <th>availability</th>\n",
       "      <th>location</th>\n",
       "      <th>size</th>\n",
       "      <th>society</th>\n",
       "      <th>total_sqft</th>\n",
       "      <th>bath</th>\n",
       "      <th>balcony</th>\n",
       "      <th>price</th>\n",
       "      <th>BHK</th>\n",
       "    </tr>\n",
       "  </thead>\n",
       "  <tbody>\n",
       "    <tr>\n",
       "      <th>10913</th>\n",
       "      <td>Super built-up  Area</td>\n",
       "      <td>Ready To Move</td>\n",
       "      <td>3rd phase jp nagar</td>\n",
       "      <td>3 BHK</td>\n",
       "      <td>NaN</td>\n",
       "      <td>2400.0</td>\n",
       "      <td>3.0</td>\n",
       "      <td>1.0</td>\n",
       "      <td>270.0</td>\n",
       "      <td>3.0</td>\n",
       "    </tr>\n",
       "  </tbody>\n",
       "</table>\n",
       "</div>"
      ],
      "text/plain": [
       "                  area_type   availability            location   size society  \\\n",
       "10913  Super built-up  Area  Ready To Move  3rd phase jp nagar  3 BHK     NaN   \n",
       "\n",
       "       total_sqft  bath  balcony  price  BHK  \n",
       "10913      2400.0   3.0      1.0  270.0  3.0  "
      ]
     },
     "execution_count": 144,
     "metadata": {},
     "output_type": "execute_result"
    }
   ],
   "source": [
    "data.sample()"
   ]
  },
  {
   "cell_type": "code",
   "execution_count": 145,
   "id": "c2321ad0-bc0f-4141-b7c6-451dcfa4995d",
   "metadata": {},
   "outputs": [
    {
     "data": {
      "text/plain": [
       "1295"
      ]
     },
     "execution_count": 145,
     "metadata": {},
     "output_type": "execute_result"
    }
   ],
   "source": [
    "len(data['location'].unique()) #the difference before converting to lower case and after converting 1304-1294"
   ]
  },
  {
   "cell_type": "code",
   "execution_count": 146,
   "id": "ebea03ad-a408-4898-b507-1d9436c58cc3",
   "metadata": {},
   "outputs": [],
   "source": [
    "#removing the white spaces between the words in a value\n",
    "data['location']=data['location'].apply(lambda x:x.strip())"
   ]
  },
  {
   "cell_type": "code",
   "execution_count": 147,
   "id": "93368689-cd02-4423-b3b5-7bfe3b47d3c7",
   "metadata": {},
   "outputs": [],
   "source": [
    "value_loc=data['location'].value_counts()"
   ]
  },
  {
   "cell_type": "code",
   "execution_count": 148,
   "id": "017b7b22-8b76-4c38-8533-2702f3edc0ec",
   "metadata": {},
   "outputs": [
    {
     "data": {
      "text/plain": [
       "location\n",
       "whitefield                            524\n",
       "sarjapur  road                        379\n",
       "electronic city                       289\n",
       "kanakpura road                        249\n",
       "thanisandra                           232\n",
       "                                     ... \n",
       "kengeri satellite town ( bda site)      1\n",
       "nagarbhavi  bda complex                 1\n",
       "rajanna layout                          1\n",
       "brigade road                            1\n",
       "abshot layout                           1\n",
       "Name: count, Length: 1283, dtype: int64"
      ]
     },
     "execution_count": 148,
     "metadata": {},
     "output_type": "execute_result"
    }
   ],
   "source": [
    "value_loc"
   ]
  },
  {
   "cell_type": "code",
   "execution_count": 149,
   "id": "6b248e25-ee41-4261-87e4-6bad8066df43",
   "metadata": {},
   "outputs": [],
   "source": [
    "#in order to reduce the dimention i grouped the cities with occurance <=10 to one value \n",
    "cities_less_10=value_loc[value_loc<=10]"
   ]
  },
  {
   "cell_type": "code",
   "execution_count": 150,
   "id": "a87d4921-2fcf-4e09-8dbd-2e4058d206e2",
   "metadata": {},
   "outputs": [
    {
     "data": {
      "text/plain": [
       "location\n",
       "nagappa reddy layout                  10\n",
       "btm 1st stage                         10\n",
       "sadashiva nagar                       10\n",
       "kalkere                               10\n",
       "beml layout                           10\n",
       "                                      ..\n",
       "kengeri satellite town ( bda site)     1\n",
       "nagarbhavi  bda complex                1\n",
       "rajanna layout                         1\n",
       "brigade road                           1\n",
       "abshot layout                          1\n",
       "Name: count, Length: 1050, dtype: int64"
      ]
     },
     "execution_count": 150,
     "metadata": {},
     "output_type": "execute_result"
    }
   ],
   "source": [
    "cities_less_10"
   ]
  },
  {
   "cell_type": "code",
   "execution_count": 151,
   "id": "9f58caba-4af7-4e16-a832-0c3345d7dac1",
   "metadata": {},
   "outputs": [],
   "source": [
    "data['location']=data['location'].apply(lambda x: 'other' if x in cities_less_10 else x)"
   ]
  },
  {
   "cell_type": "code",
   "execution_count": 152,
   "id": "37980122-c36e-475f-8ccf-c7fc14bb74a3",
   "metadata": {},
   "outputs": [
    {
     "data": {
      "text/plain": [
       "234"
      ]
     },
     "execution_count": 152,
     "metadata": {},
     "output_type": "execute_result"
    }
   ],
   "source": [
    "data['location'].nunique()"
   ]
  },
  {
   "cell_type": "markdown",
   "id": "e3db121d-3b52-4627-b842-d2521564c794",
   "metadata": {},
   "source": [
    "<h4>new column price_per_sqft'</h4>"
   ]
  },
  {
   "cell_type": "code",
   "execution_count": 153,
   "id": "f7e6f148-1c0c-4bda-8e3a-a09c3fe3b002",
   "metadata": {},
   "outputs": [
    {
     "data": {
      "text/html": [
       "<div>\n",
       "<style scoped>\n",
       "    .dataframe tbody tr th:only-of-type {\n",
       "        vertical-align: middle;\n",
       "    }\n",
       "\n",
       "    .dataframe tbody tr th {\n",
       "        vertical-align: top;\n",
       "    }\n",
       "\n",
       "    .dataframe thead th {\n",
       "        text-align: right;\n",
       "    }\n",
       "</style>\n",
       "<table border=\"1\" class=\"dataframe\">\n",
       "  <thead>\n",
       "    <tr style=\"text-align: right;\">\n",
       "      <th></th>\n",
       "      <th>area_type</th>\n",
       "      <th>availability</th>\n",
       "      <th>location</th>\n",
       "      <th>size</th>\n",
       "      <th>society</th>\n",
       "      <th>total_sqft</th>\n",
       "      <th>bath</th>\n",
       "      <th>balcony</th>\n",
       "      <th>price</th>\n",
       "      <th>BHK</th>\n",
       "      <th>price_per_sqft</th>\n",
       "    </tr>\n",
       "  </thead>\n",
       "  <tbody>\n",
       "    <tr>\n",
       "      <th>0</th>\n",
       "      <td>Super built-up  Area</td>\n",
       "      <td>19-Dec</td>\n",
       "      <td>electronic city phase ii</td>\n",
       "      <td>2 BHK</td>\n",
       "      <td>Coomee</td>\n",
       "      <td>1056.0</td>\n",
       "      <td>2.0</td>\n",
       "      <td>1.0</td>\n",
       "      <td>39.07</td>\n",
       "      <td>2.0</td>\n",
       "      <td>3699.810606</td>\n",
       "    </tr>\n",
       "    <tr>\n",
       "      <th>1</th>\n",
       "      <td>Plot  Area</td>\n",
       "      <td>Ready To Move</td>\n",
       "      <td>chikka tirupathi</td>\n",
       "      <td>4 Bedroom</td>\n",
       "      <td>Theanmp</td>\n",
       "      <td>2600.0</td>\n",
       "      <td>5.0</td>\n",
       "      <td>3.0</td>\n",
       "      <td>120.00</td>\n",
       "      <td>4.0</td>\n",
       "      <td>4615.384615</td>\n",
       "    </tr>\n",
       "  </tbody>\n",
       "</table>\n",
       "</div>"
      ],
      "text/plain": [
       "              area_type   availability                  location       size  \\\n",
       "0  Super built-up  Area         19-Dec  electronic city phase ii      2 BHK   \n",
       "1            Plot  Area  Ready To Move          chikka tirupathi  4 Bedroom   \n",
       "\n",
       "   society  total_sqft  bath  balcony   price  BHK  price_per_sqft  \n",
       "0  Coomee       1056.0   2.0      1.0   39.07  2.0     3699.810606  \n",
       "1  Theanmp      2600.0   5.0      3.0  120.00  4.0     4615.384615  "
      ]
     },
     "execution_count": 153,
     "metadata": {},
     "output_type": "execute_result"
    }
   ],
   "source": [
    "#The price is in terms of lakhs to caluclate the amount per sqr feet \n",
    "data['price_per_sqft']=((data['price']*100000)/(data['total_sqft']))\n",
    "data['price_per_sqft']=pd.to_numeric(data['price_per_sqft'],errors='coerce')\n",
    "data.head(2)"
   ]
  },
  {
   "cell_type": "code",
   "execution_count": 154,
   "id": "405884f0-c206-42a8-b82b-2d1b95356f53",
   "metadata": {},
   "outputs": [],
   "source": [
    "#Removing outliers\n",
    "def Outlier_price(data,column):\n",
    "    sorted_data=data.sort_values(by=column)\n",
    "    Q1=sorted_data[column].quantile(0.25)\n",
    "    Q3=sorted_data[column].quantile(0.75)\n",
    "    IQR=Q3-Q1\n",
    "    lower_limit=Q1-(1.5*IQR)\n",
    "    upper_limit=Q3+(1.5*IQR)\n",
    "    data_no_out=sorted_data[(sorted_data[column]>lower_limit)&(sorted_data[column]<upper_limit)]\n",
    "    return data_no_out"
   ]
  },
  {
   "cell_type": "code",
   "execution_count": 155,
   "id": "f7735afe-6b36-4477-b3db-a64a02398681",
   "metadata": {},
   "outputs": [],
   "source": [
    "data1=Outlier_price(data,'price_per_sqft')"
   ]
  },
  {
   "cell_type": "code",
   "execution_count": 156,
   "id": "e5ce3a3d-687c-4c2c-80ac-9061666479a2",
   "metadata": {},
   "outputs": [
    {
     "data": {
      "text/plain": [
       "(11583, 11)"
      ]
     },
     "execution_count": 156,
     "metadata": {},
     "output_type": "execute_result"
    }
   ],
   "source": [
    "data1.shape"
   ]
  },
  {
   "cell_type": "markdown",
   "id": "4d4aa703-1fd1-4ce0-80fa-0aa21f1136ba",
   "metadata": {},
   "source": [
    "<h3>Before and after removing the outliers in column price_per_sqft</h3>"
   ]
  },
  {
   "cell_type": "code",
   "execution_count": 157,
   "id": "70c57b50-4e47-48a6-9272-a9fe43208f21",
   "metadata": {},
   "outputs": [
    {
     "data": {
      "image/png": "[encoded data removed]",
      "text/plain": [
       "<Figure size 1000x500 with 2 Axes>"
      ]
     },
     "metadata": {},
     "output_type": "display_data"
    }
   ],
   "source": [
    "  fig, ax = plt.subplots(1, 2, figsize=(10, 5))\n",
    "\n",
    "# Plot histogram for 'data'\n",
    "data['price_per_sqft'].plot.hist(color='r', ax=ax[0], alpha=0.5)\n",
    "data1['price_per_sqft'].plot.hist(color='g', ax=ax[1], alpha=0.5)\n",
    "\n",
    "# Setting titles and labels\n",
    "ax[0].set_title('Before handling outliers')\n",
    "ax[0].set_xlabel('price_per_sqft')\n",
    "ax[0].set_ylabel('Frequency')\n",
    "\n",
    "ax[1].set_title('After handling outliers')\n",
    "ax[1].set_xlabel('price_per_sqft')\n",
    "ax[1].set_ylabel('Frequency')\n",
    "\n",
    "plt.tight_layout()\n",
    "plt.show()"
   ]
  },
  {
   "cell_type": "code",
   "execution_count": 158,
   "id": "d71fa990-045b-4ece-9eae-284ce12ee960",
   "metadata": {},
   "outputs": [
    {
     "data": {
      "text/plain": [
       "(11583, 11)"
      ]
     },
     "execution_count": 158,
     "metadata": {},
     "output_type": "execute_result"
    }
   ],
   "source": [
    "data1.shape"
   ]
  },
  {
   "cell_type": "code",
   "execution_count": 159,
   "id": "6fa2b7d9-14f8-410c-b76c-b3d3ddf3f64f",
   "metadata": {},
   "outputs": [
    {
     "data": {
      "text/plain": [
       "<Axes: xlabel='BHK', ylabel='price'>"
      ]
     },
     "execution_count": 159,
     "metadata": {},
     "output_type": "execute_result"
    },
    {
     "data": {
      "image/png": "[encoded data removed]",
      "text/plain": [
       "<Figure size 1000x600 with 1 Axes>"
      ]
     },
     "metadata": {},
     "output_type": "display_data"
    }
   ],
   "source": [
    "fig=plt.figure(figsize=(10,6))\n",
    "sns.boxplot(x='BHK',y='price',data=data1)"
   ]
  },
  {
   "cell_type": "code",
   "execution_count": 160,
   "id": "5bd78f3b-d56c-4da7-baac-1f42dec98167",
   "metadata": {},
   "outputs": [
    {
     "data": {
      "text/plain": [
       "11577"
      ]
     },
     "execution_count": 160,
     "metadata": {},
     "output_type": "execute_result"
    }
   ],
   "source": [
    "data1=data1[data1.bath<data1.BHK+3]\n",
    "data1.shape[0]"
   ]
  },
  {
   "cell_type": "code",
   "execution_count": 161,
   "id": "618803e4-43ac-42c0-a6ef-e867720fc14b",
   "metadata": {},
   "outputs": [
    {
     "data": {
      "text/plain": [
       "area_type            0\n",
       "availability         0\n",
       "location             0\n",
       "size                15\n",
       "society           4379\n",
       "total_sqft           0\n",
       "bath                 0\n",
       "balcony              0\n",
       "price                0\n",
       "BHK                  0\n",
       "price_per_sqft       0\n",
       "dtype: int64"
      ]
     },
     "execution_count": 161,
     "metadata": {},
     "output_type": "execute_result"
    }
   ],
   "source": [
    "data1.isnull().sum()"
   ]
  },
  {
   "cell_type": "code",
   "execution_count": 162,
   "id": "5e82f8c0-1099-44fd-b121-c02bbb4e95a7",
   "metadata": {},
   "outputs": [
    {
     "data": {
      "text/html": [
       "<div>\n",
       "<style scoped>\n",
       "    .dataframe tbody tr th:only-of-type {\n",
       "        vertical-align: middle;\n",
       "    }\n",
       "\n",
       "    .dataframe tbody tr th {\n",
       "        vertical-align: top;\n",
       "    }\n",
       "\n",
       "    .dataframe thead th {\n",
       "        text-align: right;\n",
       "    }\n",
       "</style>\n",
       "<table border=\"1\" class=\"dataframe\">\n",
       "  <thead>\n",
       "    <tr style=\"text-align: right;\">\n",
       "      <th></th>\n",
       "      <th>area_type</th>\n",
       "      <th>availability</th>\n",
       "      <th>location</th>\n",
       "      <th>size</th>\n",
       "      <th>society</th>\n",
       "      <th>total_sqft</th>\n",
       "      <th>bath</th>\n",
       "      <th>balcony</th>\n",
       "      <th>price</th>\n",
       "      <th>BHK</th>\n",
       "      <th>price_per_sqft</th>\n",
       "    </tr>\n",
       "  </thead>\n",
       "  <tbody>\n",
       "    <tr>\n",
       "      <th>8653</th>\n",
       "      <td>Plot  Area</td>\n",
       "      <td>Ready To Move</td>\n",
       "      <td>doddaballapur</td>\n",
       "      <td>2 Bedroom</td>\n",
       "      <td>NaN</td>\n",
       "      <td>640.0</td>\n",
       "      <td>1.0</td>\n",
       "      <td>0.0</td>\n",
       "      <td>10.5</td>\n",
       "      <td>2.0</td>\n",
       "      <td>1640.625000</td>\n",
       "    </tr>\n",
       "    <tr>\n",
       "      <th>11173</th>\n",
       "      <td>Super built-up  Area</td>\n",
       "      <td>Ready To Move</td>\n",
       "      <td>other</td>\n",
       "      <td>2 BHK</td>\n",
       "      <td>Jahipa</td>\n",
       "      <td>675.0</td>\n",
       "      <td>2.0</td>\n",
       "      <td>2.0</td>\n",
       "      <td>13.5</td>\n",
       "      <td>2.0</td>\n",
       "      <td>2000.000000</td>\n",
       "    </tr>\n",
       "    <tr>\n",
       "      <th>2796</th>\n",
       "      <td>Built-up  Area</td>\n",
       "      <td>Ready To Move</td>\n",
       "      <td>electronic city</td>\n",
       "      <td>3 BHK</td>\n",
       "      <td>Itelaa</td>\n",
       "      <td>880.0</td>\n",
       "      <td>2.0</td>\n",
       "      <td>1.0</td>\n",
       "      <td>18.0</td>\n",
       "      <td>3.0</td>\n",
       "      <td>2045.454545</td>\n",
       "    </tr>\n",
       "    <tr>\n",
       "      <th>7028</th>\n",
       "      <td>Super built-up  Area</td>\n",
       "      <td>Ready To Move</td>\n",
       "      <td>other</td>\n",
       "      <td>2 BHK</td>\n",
       "      <td>Jahipa</td>\n",
       "      <td>675.0</td>\n",
       "      <td>1.0</td>\n",
       "      <td>1.0</td>\n",
       "      <td>15.0</td>\n",
       "      <td>2.0</td>\n",
       "      <td>2222.222222</td>\n",
       "    </tr>\n",
       "    <tr>\n",
       "      <th>4786</th>\n",
       "      <td>Super built-up  Area</td>\n",
       "      <td>Ready To Move</td>\n",
       "      <td>electronic city</td>\n",
       "      <td>2 BHK</td>\n",
       "      <td>Itelaa</td>\n",
       "      <td>660.0</td>\n",
       "      <td>1.0</td>\n",
       "      <td>1.0</td>\n",
       "      <td>15.0</td>\n",
       "      <td>2.0</td>\n",
       "      <td>2272.727273</td>\n",
       "    </tr>\n",
       "    <tr>\n",
       "      <th>...</th>\n",
       "      <td>...</td>\n",
       "      <td>...</td>\n",
       "      <td>...</td>\n",
       "      <td>...</td>\n",
       "      <td>...</td>\n",
       "      <td>...</td>\n",
       "      <td>...</td>\n",
       "      <td>...</td>\n",
       "      <td>...</td>\n",
       "      <td>...</td>\n",
       "      <td>...</td>\n",
       "    </tr>\n",
       "    <tr>\n",
       "      <th>11506</th>\n",
       "      <td>Plot  Area</td>\n",
       "      <td>Ready To Move</td>\n",
       "      <td>kumaraswami layout</td>\n",
       "      <td>4 Bedroom</td>\n",
       "      <td>BaisePa</td>\n",
       "      <td>600.0</td>\n",
       "      <td>2.0</td>\n",
       "      <td>1.0</td>\n",
       "      <td>72.0</td>\n",
       "      <td>4.0</td>\n",
       "      <td>12000.000000</td>\n",
       "    </tr>\n",
       "    <tr>\n",
       "      <th>1735</th>\n",
       "      <td>Plot  Area</td>\n",
       "      <td>Ready To Move</td>\n",
       "      <td>other</td>\n",
       "      <td>10 Bedroom</td>\n",
       "      <td>NaN</td>\n",
       "      <td>750.0</td>\n",
       "      <td>10.0</td>\n",
       "      <td>2.0</td>\n",
       "      <td>90.0</td>\n",
       "      <td>10.0</td>\n",
       "      <td>12000.000000</td>\n",
       "    </tr>\n",
       "    <tr>\n",
       "      <th>9172</th>\n",
       "      <td>Built-up  Area</td>\n",
       "      <td>Ready To Move</td>\n",
       "      <td>banashankari stage iii</td>\n",
       "      <td>3 Bedroom</td>\n",
       "      <td>NaN</td>\n",
       "      <td>1000.0</td>\n",
       "      <td>2.0</td>\n",
       "      <td>1.0</td>\n",
       "      <td>120.0</td>\n",
       "      <td>3.0</td>\n",
       "      <td>12000.000000</td>\n",
       "    </tr>\n",
       "    <tr>\n",
       "      <th>7087</th>\n",
       "      <td>Plot  Area</td>\n",
       "      <td>Ready To Move</td>\n",
       "      <td>vishwapriya layout</td>\n",
       "      <td>5 Bedroom</td>\n",
       "      <td>NaN</td>\n",
       "      <td>690.0</td>\n",
       "      <td>4.0</td>\n",
       "      <td>1.0</td>\n",
       "      <td>83.0</td>\n",
       "      <td>5.0</td>\n",
       "      <td>12028.985507</td>\n",
       "    </tr>\n",
       "    <tr>\n",
       "      <th>11234</th>\n",
       "      <td>Plot  Area</td>\n",
       "      <td>Ready To Move</td>\n",
       "      <td>kumaraswami layout</td>\n",
       "      <td>4 Bedroom</td>\n",
       "      <td>NaN</td>\n",
       "      <td>623.0</td>\n",
       "      <td>4.0</td>\n",
       "      <td>1.0</td>\n",
       "      <td>75.0</td>\n",
       "      <td>4.0</td>\n",
       "      <td>12038.523274</td>\n",
       "    </tr>\n",
       "  </tbody>\n",
       "</table>\n",
       "<p>569 rows × 11 columns</p>\n",
       "</div>"
      ],
      "text/plain": [
       "                  area_type   availability                location  \\\n",
       "8653             Plot  Area  Ready To Move           doddaballapur   \n",
       "11173  Super built-up  Area  Ready To Move                   other   \n",
       "2796         Built-up  Area  Ready To Move         electronic city   \n",
       "7028   Super built-up  Area  Ready To Move                   other   \n",
       "4786   Super built-up  Area  Ready To Move         electronic city   \n",
       "...                     ...            ...                     ...   \n",
       "11506            Plot  Area  Ready To Move      kumaraswami layout   \n",
       "1735             Plot  Area  Ready To Move                   other   \n",
       "9172         Built-up  Area  Ready To Move  banashankari stage iii   \n",
       "7087             Plot  Area  Ready To Move      vishwapriya layout   \n",
       "11234            Plot  Area  Ready To Move      kumaraswami layout   \n",
       "\n",
       "             size  society  total_sqft  bath  balcony  price   BHK  \\\n",
       "8653    2 Bedroom      NaN       640.0   1.0      0.0   10.5   2.0   \n",
       "11173       2 BHK  Jahipa        675.0   2.0      2.0   13.5   2.0   \n",
       "2796        3 BHK  Itelaa        880.0   2.0      1.0   18.0   3.0   \n",
       "7028        2 BHK  Jahipa        675.0   1.0      1.0   15.0   2.0   \n",
       "4786        2 BHK  Itelaa        660.0   1.0      1.0   15.0   2.0   \n",
       "...           ...      ...         ...   ...      ...    ...   ...   \n",
       "11506   4 Bedroom  BaisePa       600.0   2.0      1.0   72.0   4.0   \n",
       "1735   10 Bedroom      NaN       750.0  10.0      2.0   90.0  10.0   \n",
       "9172    3 Bedroom      NaN      1000.0   2.0      1.0  120.0   3.0   \n",
       "7087    5 Bedroom      NaN       690.0   4.0      1.0   83.0   5.0   \n",
       "11234   4 Bedroom      NaN       623.0   4.0      1.0   75.0   4.0   \n",
       "\n",
       "       price_per_sqft  \n",
       "8653      1640.625000  \n",
       "11173     2000.000000  \n",
       "2796      2045.454545  \n",
       "7028      2222.222222  \n",
       "4786      2272.727273  \n",
       "...               ...  \n",
       "11506    12000.000000  \n",
       "1735     12000.000000  \n",
       "9172     12000.000000  \n",
       "7087     12028.985507  \n",
       "11234    12038.523274  \n",
       "\n",
       "[569 rows x 11 columns]"
      ]
     },
     "execution_count": 162,
     "metadata": {},
     "output_type": "execute_result"
    }
   ],
   "source": [
    "data1[(data1['total_sqft']/data1['BHK'])<350]"
   ]
  },
  {
   "cell_type": "code",
   "execution_count": 163,
   "id": "3fffa4a6-ceb3-4d99-a6a1-d7a5c6bcf08e",
   "metadata": {},
   "outputs": [],
   "source": [
    "data1=data1[(data1['total_sqft']/data1['BHK'])>=350]"
   ]
  },
  {
   "cell_type": "markdown",
   "id": "7903f7ce-68b5-4b5b-99c6-b1501917c682",
   "metadata": {},
   "source": [
    "<h2>Handling the outliers in the column BHK</h2>"
   ]
  },
  {
   "cell_type": "code",
   "execution_count": 164,
   "id": "eb97b4d4-4211-4769-9553-aa5ae69d37fd",
   "metadata": {},
   "outputs": [],
   "source": [
    "def Scatter_BHK(df,location):\n",
    "    df_bhk2=df[(df.location==location)&(df.BHK==2)]\n",
    "    df_bhk3=df[(df.location==location)&(df.BHK==3)]\n",
    "    fig=plt.figure(figsize=(8,3))\n",
    "    plt.scatter(df_bhk2.total_sqft,df_bhk2.price,color='y',s=50,label='2 BHK')\n",
    "    plt.scatter(df_bhk3.total_sqft,df_bhk3.price,marker='X',color='g',s=50,label='3 BHK')\n",
    "    plt.xlabel('Total square foot ')\n",
    "    plt.ylabel('Price(in lakhs(ind rupees))')\n",
    "    plt.title(location)\n",
    "    plt.legend()\n",
    "    plt.show()\n",
    "    "
   ]
  },
  {
   "cell_type": "code",
   "execution_count": 165,
   "id": "c7c12a96-878e-4644-8257-2597b7f8a47e",
   "metadata": {},
   "outputs": [
    {
     "data": {
      "image/png": "[encoded data removed]",
      "text/plain": [
       "<Figure size 800x300 with 1 Axes>"
      ]
     },
     "metadata": {},
     "output_type": "display_data"
    }
   ],
   "source": [
    "Scatter_BHK(data1,'hebbal')"
   ]
  },
  {
   "cell_type": "code",
   "execution_count": 166,
   "id": "9e9d40b3-358b-47d5-9c9d-528e0540fa2e",
   "metadata": {},
   "outputs": [
    {
     "data": {
      "image/png": "[encoded data removed]",
      "text/plain": [
       "<Figure size 800x300 with 1 Axes>"
      ]
     },
     "metadata": {},
     "output_type": "display_data"
    }
   ],
   "source": [
    "Scatter_BHK(data1,'electronic city phase ii')"
   ]
  },
  {
   "cell_type": "code",
   "execution_count": 167,
   "id": "fc4350a2-fc3b-4544-93a8-fd25da5b91ba",
   "metadata": {},
   "outputs": [
    {
     "data": {
      "image/png": "[encoded data removed]",
      "text/plain": [
       "<Figure size 800x300 with 1 Axes>"
      ]
     },
     "metadata": {},
     "output_type": "display_data"
    }
   ],
   "source": [
    "Scatter_BHK(data1,'rajaji nagar')"
   ]
  },
  {
   "cell_type": "code",
   "execution_count": 168,
   "id": "1c361871-3420-443d-8456-6eb59fc66246",
   "metadata": {},
   "outputs": [],
   "source": [
    "def remove_bhk_outliers(df):\n",
    "    exclude_indices = np.array([])\n",
    "    for location, location_df in df.groupby('location'):\n",
    "        bhk_stats = {}\n",
    "        for bhk, bhk_df in location_df.groupby('BHK'):\n",
    "            bhk_stats[bhk] = {\n",
    "                'mean': np.mean(bhk_df.price_per_sqft),\n",
    "                'std': np.std(bhk_df.price_per_sqft),\n",
    "                'count': bhk_df.shape[0]\n",
    "            }\n",
    "        for bhk, bhk_df in location_df.groupby('BHK'):\n",
    "            stats = bhk_stats.get(bhk-1)\n",
    "            if stats and stats['count']>5:\n",
    "                exclude_indices = np.append(exclude_indices, bhk_df[bhk_df.price_per_sqft<(stats['mean'])].index.values)\n",
    "    return df.drop(exclude_indices,axis='index')"
   ]
  },
  {
   "cell_type": "code",
   "execution_count": 169,
   "id": "87537c68-36ca-404b-9fc3-cfa86670f3d3",
   "metadata": {},
   "outputs": [
    {
     "name": "stdout",
     "output_type": "stream",
     "text": [
      "before: 11008\n",
      "after: 7938\n"
     ]
    }
   ],
   "source": [
    "data2=remove_bhk_outliers(data1)\n",
    "print('before:',data1.shape[0])\n",
    "print('after:',data2.shape[0])"
   ]
  },
  {
   "cell_type": "code",
   "execution_count": 170,
   "id": "bdbe6ccc-d6c9-41e4-a586-e414de85dc80",
   "metadata": {},
   "outputs": [
    {
     "data": {
      "image/png": "[encoded data removed]",
      "text/plain": [
       "<Figure size 800x300 with 1 Axes>"
      ]
     },
     "metadata": {},
     "output_type": "display_data"
    }
   ],
   "source": [
    "Scatter_BHK(data2,'hebbal')"
   ]
  },
  {
   "cell_type": "code",
   "execution_count": 171,
   "id": "e1d61e2f-8a88-4a56-9ddd-4866f3edcb2f",
   "metadata": {},
   "outputs": [
    {
     "data": {
      "image/png": "[encoded data removed]",
      "text/plain": [
       "<Figure size 800x300 with 1 Axes>"
      ]
     },
     "metadata": {},
     "output_type": "display_data"
    }
   ],
   "source": [
    "Scatter_BHK(data2,'electronic city phase ii')"
   ]
  },
  {
   "cell_type": "code",
   "execution_count": 172,
   "id": "aaa3fe7c-530d-488f-bca8-b18df03fdafc",
   "metadata": {},
   "outputs": [
    {
     "data": {
      "image/png": "[encoded data removed]",
      "text/plain": [
       "<Figure size 800x300 with 1 Axes>"
      ]
     },
     "metadata": {},
     "output_type": "display_data"
    }
   ],
   "source": [
    "Scatter_BHK(data2,'rajaji nagar')"
   ]
  },
  {
   "cell_type": "code",
   "execution_count": 173,
   "id": "69b73953-724f-4b04-81d2-2dd13b0bf9e0",
   "metadata": {},
   "outputs": [],
   "source": [
    "data2.drop(columns=['area_type','availability','size','society','price_per_sqft'],axis=1,inplace=True)"
   ]
  },
  {
   "cell_type": "code",
   "execution_count": 174,
   "id": "642987cd-2917-4600-9510-070612ac19ac",
   "metadata": {},
   "outputs": [],
   "source": [
    "X=data2.drop(columns=['price'],axis=1)\n",
    "y=data2['price']"
   ]
  },
  {
   "cell_type": "code",
   "execution_count": 175,
   "id": "e5fc6938-897a-4107-9e60-75fc9d7b32f5",
   "metadata": {},
   "outputs": [
    {
     "data": {
      "text/html": [
       "<div>\n",
       "<style scoped>\n",
       "    .dataframe tbody tr th:only-of-type {\n",
       "        vertical-align: middle;\n",
       "    }\n",
       "\n",
       "    .dataframe tbody tr th {\n",
       "        vertical-align: top;\n",
       "    }\n",
       "\n",
       "    .dataframe thead th {\n",
       "        text-align: right;\n",
       "    }\n",
       "</style>\n",
       "<table border=\"1\" class=\"dataframe\">\n",
       "  <thead>\n",
       "    <tr style=\"text-align: right;\">\n",
       "      <th></th>\n",
       "      <th>location</th>\n",
       "      <th>total_sqft</th>\n",
       "      <th>bath</th>\n",
       "      <th>balcony</th>\n",
       "      <th>BHK</th>\n",
       "    </tr>\n",
       "  </thead>\n",
       "  <tbody>\n",
       "    <tr>\n",
       "      <th>648</th>\n",
       "      <td>arekere</td>\n",
       "      <td>1123031.25</td>\n",
       "      <td>9.0</td>\n",
       "      <td>2.0</td>\n",
       "      <td>9.0</td>\n",
       "    </tr>\n",
       "    <tr>\n",
       "      <th>7607</th>\n",
       "      <td>bommenahalli</td>\n",
       "      <td>653400.00</td>\n",
       "      <td>3.0</td>\n",
       "      <td>1.0</td>\n",
       "      <td>3.0</td>\n",
       "    </tr>\n",
       "    <tr>\n",
       "      <th>7001</th>\n",
       "      <td>thyagaraja nagar</td>\n",
       "      <td>653400.00</td>\n",
       "      <td>6.0</td>\n",
       "      <td>2.0</td>\n",
       "      <td>8.0</td>\n",
       "    </tr>\n",
       "  </tbody>\n",
       "</table>\n",
       "</div>"
      ],
      "text/plain": [
       "              location  total_sqft  bath  balcony  BHK\n",
       "648            arekere  1123031.25   9.0      2.0  9.0\n",
       "7607      bommenahalli   653400.00   3.0      1.0  3.0\n",
       "7001  thyagaraja nagar   653400.00   6.0      2.0  8.0"
      ]
     },
     "execution_count": 175,
     "metadata": {},
     "output_type": "execute_result"
    }
   ],
   "source": [
    "X.head(3)"
   ]
  },
  {
   "cell_type": "code",
   "execution_count": 176,
   "id": "a0c7e7c8-8dfa-4dbe-8d62-ec81d6809226",
   "metadata": {},
   "outputs": [
    {
     "data": {
      "text/plain": [
       "648     265.0\n",
       "7607    217.0\n",
       "7001    290.0\n",
       "Name: price, dtype: float64"
      ]
     },
     "execution_count": 176,
     "metadata": {},
     "output_type": "execute_result"
    }
   ],
   "source": [
    "y.head(3)"
   ]
  },
  {
   "cell_type": "code",
   "execution_count": 177,
   "id": "2392da14-aa00-4ba0-af2e-9f0de6e22494",
   "metadata": {},
   "outputs": [],
   "source": [
    "X_train, X_test, y_train, y_test = train_test_split(X,y,test_size=0.4,random_state=10)"
   ]
  },
  {
   "cell_type": "code",
   "execution_count": 178,
   "id": "22ffa7ce-8e05-41ac-93ce-a09710ec05a7",
   "metadata": {},
   "outputs": [
    {
     "data": {
      "text/plain": [
       "(4762, 5)"
      ]
     },
     "execution_count": 178,
     "metadata": {},
     "output_type": "execute_result"
    }
   ],
   "source": [
    "X_train.shape"
   ]
  },
  {
   "cell_type": "code",
   "execution_count": 179,
   "id": "9a7b08ae-258b-4c80-a008-48234aaf991a",
   "metadata": {},
   "outputs": [
    {
     "data": {
      "text/plain": [
       "(3176, 5)"
      ]
     },
     "execution_count": 179,
     "metadata": {},
     "output_type": "execute_result"
    }
   ],
   "source": [
    "X_test.shape"
   ]
  },
  {
   "cell_type": "code",
   "execution_count": 180,
   "id": "b4481dc9-5233-4238-8113-83935eb05632",
   "metadata": {},
   "outputs": [],
   "source": [
    "train_data = pd.concat([X_train, y_train], axis=1)"
   ]
  },
  {
   "cell_type": "code",
   "execution_count": 181,
   "id": "b96ee935-b8b1-4da5-8ffa-8334f1fa0943",
   "metadata": {},
   "outputs": [
    {
     "data": {
      "text/html": [
       "<div>\n",
       "<style scoped>\n",
       "    .dataframe tbody tr th:only-of-type {\n",
       "        vertical-align: middle;\n",
       "    }\n",
       "\n",
       "    .dataframe tbody tr th {\n",
       "        vertical-align: top;\n",
       "    }\n",
       "\n",
       "    .dataframe thead th {\n",
       "        text-align: right;\n",
       "    }\n",
       "</style>\n",
       "<table border=\"1\" class=\"dataframe\">\n",
       "  <thead>\n",
       "    <tr style=\"text-align: right;\">\n",
       "      <th></th>\n",
       "      <th>location</th>\n",
       "      <th>total_sqft</th>\n",
       "      <th>bath</th>\n",
       "      <th>balcony</th>\n",
       "      <th>BHK</th>\n",
       "      <th>price</th>\n",
       "    </tr>\n",
       "  </thead>\n",
       "  <tbody>\n",
       "    <tr>\n",
       "      <th>10952</th>\n",
       "      <td>munnekollal</td>\n",
       "      <td>1200.0</td>\n",
       "      <td>2.0</td>\n",
       "      <td>2.0</td>\n",
       "      <td>2.0</td>\n",
       "      <td>40.0</td>\n",
       "    </tr>\n",
       "  </tbody>\n",
       "</table>\n",
       "</div>"
      ],
      "text/plain": [
       "          location  total_sqft  bath  balcony  BHK  price\n",
       "10952  munnekollal      1200.0   2.0      2.0  2.0   40.0"
      ]
     },
     "execution_count": 181,
     "metadata": {},
     "output_type": "execute_result"
    }
   ],
   "source": [
    "train_data.sample()"
   ]
  },
  {
   "cell_type": "code",
   "execution_count": 182,
   "id": "47a2c7df-1b8c-4635-a8ed-21c47cee4839",
   "metadata": {},
   "outputs": [],
   "source": [
    "#train_data.to_csv('train_data.csv', index=False)"
   ]
  },
  {
   "cell_type": "code",
   "execution_count": 183,
   "id": "30199b01-3209-4f9f-b20e-4a9365bcb2d9",
   "metadata": {},
   "outputs": [],
   "source": [
    "test_data = pd.concat([X_test, y_test], axis=1)"
   ]
  },
  {
   "cell_type": "code",
   "execution_count": 184,
   "id": "73d2e223-5bd7-4766-be54-d9de23e2c693",
   "metadata": {},
   "outputs": [
    {
     "data": {
      "text/html": [
       "<div>\n",
       "<style scoped>\n",
       "    .dataframe tbody tr th:only-of-type {\n",
       "        vertical-align: middle;\n",
       "    }\n",
       "\n",
       "    .dataframe tbody tr th {\n",
       "        vertical-align: top;\n",
       "    }\n",
       "\n",
       "    .dataframe thead th {\n",
       "        text-align: right;\n",
       "    }\n",
       "</style>\n",
       "<table border=\"1\" class=\"dataframe\">\n",
       "  <thead>\n",
       "    <tr style=\"text-align: right;\">\n",
       "      <th></th>\n",
       "      <th>location</th>\n",
       "      <th>total_sqft</th>\n",
       "      <th>bath</th>\n",
       "      <th>balcony</th>\n",
       "      <th>BHK</th>\n",
       "      <th>price</th>\n",
       "    </tr>\n",
       "  </thead>\n",
       "  <tbody>\n",
       "    <tr>\n",
       "      <th>6855</th>\n",
       "      <td>horamavu banaswadi</td>\n",
       "      <td>1156.0</td>\n",
       "      <td>2.0</td>\n",
       "      <td>2.0</td>\n",
       "      <td>2.0</td>\n",
       "      <td>46.9</td>\n",
       "    </tr>\n",
       "  </tbody>\n",
       "</table>\n",
       "</div>"
      ],
      "text/plain": [
       "                location  total_sqft  bath  balcony  BHK  price\n",
       "6855  horamavu banaswadi      1156.0   2.0      2.0  2.0   46.9"
      ]
     },
     "execution_count": 184,
     "metadata": {},
     "output_type": "execute_result"
    }
   ],
   "source": [
    "test_data.sample()"
   ]
  },
  {
   "cell_type": "code",
   "execution_count": 185,
   "id": "fad647b6-af82-4074-8b81-65f5b9819c3a",
   "metadata": {},
   "outputs": [],
   "source": [
    "test_data.to_csv('test_data.csv', index=False)"
   ]
  }
 ],
 "metadata": {
  "kernelspec": {
   "display_name": "Python 3 (ipykernel)",
   "language": "python",
   "name": "python3"
  },
  "language_info": {
   "codemirror_mode": {
    "name": "ipython",
    "version": 3
   },
   "file_extension": ".py",
   "mimetype": "text/x-python",
   "name": "python",
   "nbconvert_exporter": "python",
   "pygments_lexer": "ipython3",
   "version": "3.12.7"
  }
 },
 "nbformat": 4,
 "nbformat_minor": 5
}
